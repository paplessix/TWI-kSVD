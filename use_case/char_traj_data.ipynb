{
 "cells": [
  {
   "attachments": {},
   "cell_type": "markdown",
   "metadata": {},
   "source": [
    "# Character Trajectories dataset\n",
    "\n",
    "Link to [Official repository](https://archive-beta.ics.uci.edu/dataset/175/character+trajectories) on UC Irvine\n"
   ]
  },
  {
   "attachments": {},
   "cell_type": "markdown",
   "metadata": {},
   "source": [
    "### Data description:\n",
    "\n",
    "Multiple, labelled samples of pen tip trajectories recorded whilst writing individual characters. All samples are from the same writer, for the purposes of primitive extraction. Only characters with a single pen-down segment were considered.\n",
    "\n",
    "Each character sample is a 3-dimensional pen tip velocity trajectory. This is contained in matrix format, with 3 rows and T columns where T is the length of the character sample.\n",
    "\n",
    "The characters here were used for a PhD study on primitive extraction using HMM based models. The data consists of 2858 character samples, contained in the cell array 'mixout'. The struct variable 'consts' contains a field consts.charlabels which provides ennummerated labels for the characters. consts.key provides the key for each label. The data was captured using a WACOM tablet. 3 Dimensions were kept - x, y, and pen tip force. The data has been numerically differentiated and Gaussian smoothed, with a sigma value of 2. Data was captured at 200Hz. The data was normalised with consts.datanorm. Only characters with a single 'PEN-DOWN' segment were considered. Character segmentation was performed using a pen tip force cut-off point. The characters have also been shifted so that their velocity profiles best match the mean of the set."
   ]
  },
  {
   "attachments": {},
   "cell_type": "markdown",
   "metadata": {},
   "source": [
    "## Download database\n",
    "\n",
    "Run the cell below to collect the archives in your folder.\n",
    "\n",
    "Safe cell that will create a folder `../trajectory_dataset` (), download and overwrite the files in this folder."
   ]
  },
  {
   "cell_type": "code",
   "execution_count": null,
   "metadata": {},
   "outputs": [],
   "source": [
    "import os \n",
    "import requests\n",
    "\n",
    "if not os.path.exists(\"../trajectory_dataset\"):\n",
    "    os.mkdir(\"../trajectory_dataset\")\n",
    "    r = requests.get(\"https://archive.ics.uci.edu/ml/machine-learning-databases/character-trajectories/mixoutALL_shifted.mat\")\n",
    "    open('../trajectory_dataset/mixoutALL_shifted.mat', 'wb').write(r.content)\n",
    "    r = requests.get(\" https://archive.ics.uci.edu/ml/machine-learning-databases/character-trajectories/trajectories.names\")\n",
    "\n",
    "    open('../trajectory_dataset/trajectories.names', 'wb').write(r.content)\n",
    "# ! wget -O ../trajectory_dataset/mixoutALL_shifted.mat https://archive.ics.uci.edu/ml/machine-learning-databases/character-trajectories/mixoutALL_shifted.mat\n",
    "# ! wget -O ../trajectory_dataset/trajectories.names https://archive.ics.uci.edu/ml/machine-learning-databases/character-trajectories/trajectories.names"
   ]
  },
  {
   "attachments": {},
   "cell_type": "markdown",
   "metadata": {},
   "source": [
    "## Interacting with data"
   ]
  },
  {
   "cell_type": "code",
   "execution_count": null,
   "metadata": {},
   "outputs": [],
   "source": [
    "from scipy.io import loadmat\n",
    "import numpy as np\n",
    "\n",
    "# load data in a python dictionnary\n",
    "mat = loadmat('../trajectory_dataset/mixoutALL_shifted.mat')\n",
    "\n",
    "mat.keys()"
   ]
  },
  {
   "cell_type": "code",
   "execution_count": null,
   "metadata": {},
   "outputs": [],
   "source": [
    "# Information about the dataset\n",
    "\n",
    "n_samples = mat[\"mixout\"][0].__len__()\n",
    "\n",
    "print(f\"Number of samples:\\t {n_samples}\")\n",
    "\n",
    "\n",
    "# Loading samples labels\n",
    "keys = mat[\"consts\"][0,0][4]\n",
    "keys = [key - 1 for key in keys[0]]\n",
    "\n",
    "labels = mat[\"consts\"][0,0][3]\n",
    "labels = np.array([label[0] for label in labels[0]])\n",
    "\n",
    "samples_label = labels[[keys]][0]\n",
    "\n",
    "label_unique, label_count = np.unique(samples_label, return_counts=True)\n",
    "\n",
    "print()\n",
    "print(\"Data distribution:\")\n",
    "print(f\"{len(label_unique)} different class\")\n",
    "line_u = \"_______\" + str.join(\"_\", [\"___\" for _ in label_count]) + \"_\"\n",
    "print(line_u)\n",
    "char = \"|CHAR  | \" + str.join(\" | \", label_unique) + \" |\"\n",
    "print(char)\n",
    "line_d = \"|______|\" + str.join(\"|\", [\"___\" for _ in label_count]) + \"|\"\n",
    "print(line_d)\n",
    "count = \"|COUNT |\" + str.join(\"|\", [str(c) for c in label_count]) + \"|\"\n",
    "print(count)\n",
    "print(line_d)\n",
    "\n",
    "\n",
    "samples = mat[\"mixout\"][0]\n",
    "\n",
    "f_s = 200 #Hz sampling at 200Hz\n",
    "\n",
    "print(f\"\\n\\nN_features: \\t\\t{samples[0].shape[0]} ---> \\t(v_x, v_y, pen_tip_force)\")\n",
    "print(f\"Sampling frequency: \\t{f_s} Hz\")\n"
   ]
  },
  {
   "cell_type": "code",
   "execution_count": null,
   "metadata": {},
   "outputs": [],
   "source": [
    "import matplotlib.pyplot as plt\n",
    "\n",
    "rdm_sample_idx = np.random.randint(0, len(samples), 10)\n",
    "\n",
    "for i, i_sample in enumerate(rdm_sample_idx):\n",
    "\n",
    "    exsample = samples[i_sample]\n",
    "\n",
    "    x_speed = exsample[0]\n",
    "    y_speed = exsample[1]\n",
    "    pen_tip_f = exsample[2]\n",
    "    \n",
    "\n",
    "    # Conversion to trajectory beggining at point (0,0)\n",
    "    x = [0]\n",
    "    y = [0]\n",
    "\n",
    "    for x_v, y_v in zip(x_speed, y_speed):\n",
    "        x.append(x[-1] + x_v/f_s)\n",
    "        y.append(y[-1] + y_v/f_s)\n",
    "\n",
    "    plt.subplot(2, 5, i+1)\n",
    "    plt.scatter(x[:], y[:], c=np.arange(len(x)), s=5)\n",
    "\n",
    "    # To modulate the linewidth depending on the pen tip force \n",
    "    # plt.scatter(x[1:], y[1:], c=np.arange(len(x[1:])), s=2*np.abs(pen_tip_f))\n",
    "    \n",
    "    plt.plot(x, y, alpha=0.5)\n",
    "    \n",
    "    plt.title(samples_label[i_sample])\n",
    "\n",
    "    plt.axis('equal')\n",
    "    plt.axis('off')\n",
    "    #plt.colorbar()\n",
    "\n",
    "plt.suptitle(\"Characters samples (start in indigo, end in yellow)\")\n",
    "plt.show()\n",
    "\n",
    "for i, i_sample in enumerate(rdm_sample_idx):\n",
    "\n",
    "    exsample = samples[i_sample]\n",
    "\n",
    "    pen_tip_f = exsample[2]\n",
    "\n",
    "    plt.subplot(2, 5, i+1)\n",
    "    plt.plot(np.arange(len(pen_tip_f)), pen_tip_f)\n",
    "    plt.title(samples_label[i_sample])\n",
    "\n",
    "plt.suptitle(\"Pen tip force curves\")\n",
    "plt.show()\n",
    "\n",
    "for i, i_sample in enumerate(rdm_sample_idx):\n",
    "\n",
    "    exsample = samples[i_sample]\n",
    "\n",
    "    x_speed = exsample[0]\n",
    "\n",
    "    plt.subplot(2, 5, i+1)\n",
    "    plt.plot(np.arange(len(x_speed)), x_speed)\n",
    "    plt.title(samples_label[i_sample])\n",
    "\n",
    "plt.suptitle(\"X speed (+ = right, - = down)\")\n",
    "plt.show()\n",
    "\n",
    "for i, i_sample in enumerate(rdm_sample_idx):\n",
    "\n",
    "    exsample = samples[i_sample]\n",
    "\n",
    "    y_speed = exsample[1]\n",
    "\n",
    "    plt.subplot(2, 5, i+1)\n",
    "    plt.plot(np.arange(len(y_speed)), y_speed)\n",
    "    plt.title(samples_label[i_sample])\n",
    "\n",
    "plt.suptitle(\"Y speed (+ = up, - = left)\")\n",
    "plt.show()\n",
    "\n",
    "for i, i_sample in enumerate(rdm_sample_idx):\n",
    "\n",
    "    exsample = samples[i_sample]\n",
    "\n",
    "    x_speed = exsample[0]\n",
    "    y_speed = exsample[1]\n",
    "    pen_tip_f = exsample[2]\n",
    "    \n",
    "\n",
    "    # Conversion to trajectory beggining at point (0,0)\n",
    "    x = [0]\n",
    "    y = [0]\n",
    "\n",
    "    for x_v, y_v in zip(x_speed, y_speed):\n",
    "        x.append(x[-1] + x_v/f_s)\n",
    "        y.append(y[-1] + y_v/f_s)\n",
    "\n",
    "    plt.subplot(2, 5, i+1)\n",
    "    plt.plot(np.arange(len(x)), x)\n",
    "    plt.title(samples_label[i_sample])\n",
    "\n",
    "plt.suptitle(\"X position\")\n",
    "plt.show()\n",
    "\n",
    "\n",
    "for i, i_sample in enumerate(rdm_sample_idx):\n",
    "\n",
    "    exsample = samples[i_sample]\n",
    "\n",
    "    x_speed = exsample[0]\n",
    "    y_speed = exsample[1]\n",
    "    pen_tip_f = exsample[2]\n",
    "    \n",
    "\n",
    "    # Conversion to trajectory beggining at point (0,0)\n",
    "    x = [0]\n",
    "    y = [0]\n",
    "\n",
    "    for x_v, y_v in zip(x_speed, y_speed):\n",
    "        x.append(x[-1] + x_v/f_s)\n",
    "        y.append(y[-1] + y_v/f_s)\n",
    "\n",
    "    plt.subplot(2, 5, i+1)\n",
    "    plt.plot(np.arange(len(y)), y)\n",
    "    plt.title(samples_label[i_sample])\n",
    "\n",
    "plt.suptitle(\"Y position\")\n",
    "plt.show()"
   ]
  },
  {
   "attachments": {},
   "cell_type": "markdown",
   "metadata": {},
   "source": [
    "## TWI-kSVD on char-traj data"
   ]
  },
  {
   "cell_type": "code",
   "execution_count": null,
   "metadata": {},
   "outputs": [],
   "source": [
    "x_speeds = []\n",
    "y_speeds = []\n",
    "pen_tip_forces = []\n",
    "max_len = 0\n",
    "min_len = 1000\n",
    "\n",
    "for sample in samples:\n",
    "    x_speeds.append(sample[0])\n",
    "    y_speeds.append(sample[1])\n",
    "    pen_tip_forces.append(sample[2])\n",
    "    \n",
    "    if len(sample[0]) > max_len:\n",
    "        max_len = len(sample[0])\n",
    "    \n",
    "    if len(sample[0]) < min_len:\n",
    "        min_len = len(sample[0])\n"
   ]
  },
  {
   "cell_type": "code",
   "execution_count": null,
   "metadata": {},
   "outputs": [],
   "source": [
    "print(f\"Longueur minimale : {min_len}\")\n",
    "print(f\"Longueur maximale : {max_len}\")"
   ]
  },
  {
   "cell_type": "code",
   "execution_count": null,
   "metadata": {},
   "outputs": [],
   "source": [
    "for i, x_speed in enumerate(x_speeds[:2]):\n",
    "\n",
    "    plt.subplot(2, 1, i+1)\n",
    "    plt.plot(np.arange(len(x_speed)), x_speed)\n",
    "    plt.title(samples_label[i])"
   ]
  },
  {
   "cell_type": "code",
   "execution_count": null,
   "metadata": {},
   "outputs": [],
   "source": [
    "from twi_ksvd.ksvd import TWI_kSVD\n",
    "\n",
    "# Au maximum 20 atomes pour décrire tous les signaux\n",
    "K = 10\n",
    "model = TWI_kSVD( K, max_iter=30)\n",
    "# En décrivant chaque signal par au plus 5 atomes\n",
    "tau = 5\n",
    "\n",
    "D_list = []\n",
    "for i in range(K):\n",
    "    atom_length = (min_len + (i  * (max_len - min_len)) // (K-1))//4\n",
    "\n",
    "    phase = 2* np.pi * np.random.random(1)\n",
    "    \n",
    "    t = np.arange(atom_length) * np.random.random(1) /5\n",
    "\n",
    "    D_list.append(np.cos(t+phase))"
   ]
  },
  {
   "cell_type": "code",
   "execution_count": null,
   "metadata": {},
   "outputs": [],
   "source": [
    "for i, atom in enumerate(D_list):\n",
    "\n",
    "    plt.plot(np.arange(len(atom)), atom, label=f\"{i}\")\n",
    "\n",
    "plt.title(\"Initial random cosine atoms\")\n",
    "plt.legend()\n",
    "plt.show()\n",
    "    "
   ]
  },
  {
   "cell_type": "code",
   "execution_count": null,
   "metadata": {},
   "outputs": [],
   "source": [
    "samples_label.shape"
   ]
  },
  {
   "cell_type": "code",
   "execution_count": null,
   "metadata": {},
   "outputs": [],
   "source": [
    "from sklearn.model_selection import train_test_split\n",
    "\n",
    "train_idx, test_idx = train_test_split(np.arange(len(x_speeds)), test_size=0.4, stratify=samples_label)"
   ]
  },
  {
   "cell_type": "code",
   "execution_count": null,
   "metadata": {},
   "outputs": [],
   "source": [
    "x_train = [x_speeds[i] for i in train_idx]\n",
    "x_test = [x_speeds[i] for i in test_idx]\n"
   ]
  },
  {
   "cell_type": "code",
   "execution_count": null,
   "metadata": {},
   "outputs": [],
   "source": [
    "A,D = model.fit(x_train, D_list, tau, r_window=10)"
   ]
  },
  {
   "cell_type": "code",
   "execution_count": null,
   "metadata": {},
   "outputs": [],
   "source": [
    "A, D = model.alphas, model.D"
   ]
  },
  {
   "cell_type": "code",
   "execution_count": null,
   "metadata": {},
   "outputs": [],
   "source": [
    "deltas = model.alignements"
   ]
  },
  {
   "cell_type": "code",
   "execution_count": null,
   "metadata": {},
   "outputs": [],
   "source": [
    "for i, atom in enumerate(model.D):\n",
    "\n",
    "    plt.plot(np.arange(len(atom)), atom, label=f\"{i}\")\n",
    "\n",
    "plt.title(\"Final random cosine atoms\")\n",
    "plt.legend()\n",
    "plt.show()\n",
    "    "
   ]
  },
  {
   "cell_type": "code",
   "execution_count": null,
   "metadata": {},
   "outputs": [],
   "source": [
    "from twi_ksvd.omp import TWI_OMP\n",
    "\n",
    "\n",
    "\n",
    "for p, i in enumerate([train_idx[i] for i in np.random.randint(0, len(train_idx), 2)] + [test_idx[i] for i in np.random.randint(0, len(test_idx), 2)]):\n",
    "    alphas, deltas = TWI_OMP(x_speeds[i], D, tau=tau, r_window=10)\n",
    "\n",
    "    reconstructed_signal = np.zeros_like(x_speeds[i])\n",
    "\n",
    "    plt.subplot(4, 2, 2*p + 1)\n",
    "    for alpha, delta, atom in zip(alphas, deltas, D):\n",
    "        if alpha != 0:\n",
    "            reconstructed_signal += alpha * delta @ atom\n",
    "            plt.plot(alpha * delta @ atom)\n",
    "    \n",
    "    plt.plot(reconstructed_signal)\n",
    "    plt.subplot(4, 2, 2*p + 2)\n",
    "    plt.plot(x_speeds[i])"
   ]
  },
  {
   "cell_type": "code",
   "execution_count": null,
   "metadata": {},
   "outputs": [],
   "source": [
    "for p, i in enumerate([train_idx[i] for i in np.random.randint(0, len(train_idx), 2)] + [test_idx[i] for i in np.random.randint(0, len(test_idx), 2)]):\n",
    "    alphas, deltas = TWI_OMP(x_speeds[i], D, tau=tau, r_window=10)\n",
    "\n",
    "    reconstructed_signal = np.zeros_like(x_speeds[i])\n",
    "\n",
    "    for alpha, delta, atom in zip(alphas, deltas, D):\n",
    "        if alpha != 0:\n",
    "            reconstructed_signal += alpha * delta @ atom\n",
    "            \n",
    "    exsample = samples[i]\n",
    "\n",
    "    x_speed = reconstructed_signal\n",
    "    y_speed = exsample[1]\n",
    "    pen_tip_f = exsample[2]\n",
    "    \n",
    "\n",
    "    # Conversion to trajectory beggining at point (0,0)\n",
    "    x = [0]\n",
    "    y = [0]\n",
    "\n",
    "    for x_v, y_v in zip(x_speed, y_speed):\n",
    "        x.append(x[-1] + x_v/f_s)\n",
    "        y.append(y[-1] + y_v/f_s)\n",
    "\n",
    "    plt.subplot(2, 5, p+1)\n",
    "    plt.scatter(x[:], y[:], c=np.arange(len(x)), s=5)\n",
    "    plt.title(samples_label[i])\n",
    "    plt.axis('off')"
   ]
  },
  {
   "cell_type": "code",
   "execution_count": null,
   "metadata": {},
   "outputs": [],
   "source": [
    "for i, atom in enumerate(D):\n",
    "    np.save(\"../trajectory_dataset/x_dictionnary/atom_\" + str(i) + \".npy\", atom)"
   ]
  }
 ],
 "metadata": {
  "kernelspec": {
   "display_name": "Python 3",
   "language": "python",
   "name": "python3"
  },
  "language_info": {
   "codemirror_mode": {
    "name": "ipython",
    "version": 3
   },
   "file_extension": ".py",
   "mimetype": "text/x-python",
   "name": "python",
   "nbconvert_exporter": "python",
   "pygments_lexer": "ipython3",
   "version": "3.8.10"
  },
  "orig_nbformat": 4
 },
 "nbformat": 4,
 "nbformat_minor": 2
}
