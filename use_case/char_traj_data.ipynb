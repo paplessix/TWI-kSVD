{
 "cells": [
  {
   "attachments": {},
   "cell_type": "markdown",
   "metadata": {},
   "source": [
    "# Character Trajectories dataset\n",
    "\n",
    "Link to [Official repository](https://archive-beta.ics.uci.edu/dataset/175/character+trajectories) on UC Irvine\n"
   ]
  },
  {
   "attachments": {},
   "cell_type": "markdown",
   "metadata": {},
   "source": [
    "### Data description:\n",
    "\n",
    "Multiple, labelled samples of pen tip trajectories recorded whilst writing individual characters. All samples are from the same writer, for the purposes of primitive extraction. Only characters with a single pen-down segment were considered.\n",
    "\n",
    "Each character sample is a 3-dimensional pen tip velocity trajectory. This is contained in matrix format, with 3 rows and T columns where T is the length of the character sample.\n",
    "\n",
    "The characters here were used for a PhD study on primitive extraction using HMM based models. The data consists of 2858 character samples, contained in the cell array 'mixout'. The struct variable 'consts' contains a field consts.charlabels which provides ennummerated labels for the characters. consts.key provides the key for each label. The data was captured using a WACOM tablet. 3 Dimensions were kept - x, y, and pen tip force. The data has been numerically differentiated and Gaussian smoothed, with a sigma value of 2. Data was captured at 200Hz. The data was normalised with consts.datanorm. Only characters with a single 'PEN-DOWN' segment were considered. Character segmentation was performed using a pen tip force cut-off point. The characters have also been shifted so that their velocity profiles best match the mean of the set."
   ]
  },
  {
   "attachments": {},
   "cell_type": "markdown",
   "metadata": {},
   "source": [
    "## Download database\n",
    "\n",
    "Run the cell below to collect the archives in your folder.\n",
    "\n",
    "Safe cell that will create a folder `../trajectory_dataset` (), download and overwrite the files in this folder."
   ]
  },
  {
   "cell_type": "code",
   "execution_count": null,
   "metadata": {},
   "outputs": [],
   "source": [
    "! mkdir -p ../trajectory_dataset\n",
    "! wget -O ../trajectory_dataset/mixoutALL_shifted.mat https://archive.ics.uci.edu/ml/machine-learning-databases/character-trajectories/mixoutALL_shifted.mat\n",
    "! wget -O ../trajectory_dataset/trajectories.names https://archive.ics.uci.edu/ml/machine-learning-databases/character-trajectories/trajectories.names"
   ]
  },
  {
   "attachments": {},
   "cell_type": "markdown",
   "metadata": {},
   "source": [
    "## Interacting with data"
   ]
  },
  {
   "cell_type": "code",
   "execution_count": null,
   "metadata": {},
   "outputs": [],
   "source": [
    "from scipy.io import loadmat\n",
    "import numpy as np\n",
    "\n",
    "# load data in a python dictionnary\n",
    "mat = loadmat('../trajectory_dataset/mixoutALL_shifted.mat')\n",
    "\n",
    "mat.keys()"
   ]
  },
  {
   "cell_type": "code",
   "execution_count": null,
   "metadata": {},
   "outputs": [],
   "source": [
    "# Information about the dataset\n",
    "\n",
    "n_samples = mat[\"mixout\"][0].__len__()\n",
    "\n",
    "print(f\"Number of samples:\\t {n_samples}\")\n",
    "\n",
    "\n",
    "# Loading samples labels\n",
    "keys = mat[\"consts\"][0,0][4]\n",
    "keys = [key - 1 for key in keys[0]]\n",
    "\n",
    "labels = mat[\"consts\"][0,0][3]\n",
    "labels = np.array([label[0] for label in labels[0]])\n",
    "\n",
    "samples_label = labels[[keys]]\n",
    "\n",
    "label_unique, label_count = np.unique(samples_label, return_counts=True)\n",
    "\n",
    "print()\n",
    "print(\"Data distribution:\")\n",
    "print(f\"{len(label_unique)} different class\")\n",
    "line_u = \"_______\" + str.join(\"_\", [\"___\" for _ in label_count]) + \"_\"\n",
    "print(line_u)\n",
    "char = \"|CHAR  | \" + str.join(\" | \", label_unique) + \" |\"\n",
    "print(char)\n",
    "line_d = \"|______|\" + str.join(\"|\", [\"___\" for _ in label_count]) + \"|\"\n",
    "print(line_d)\n",
    "count = \"|COUNT |\" + str.join(\"|\", [str(c) for c in label_count]) + \"|\"\n",
    "print(count)\n",
    "print(line_d)\n",
    "\n",
    "\n",
    "samples = mat[\"mixout\"][0]\n",
    "\n",
    "f_s = 200 #Hz sampling at 200Hz\n",
    "\n",
    "print(f\"\\n\\nN_features: \\t\\t{samples[0].shape[0]} ---> \\t(v_x, v_y, pen_tip_force)\")\n",
    "print(f\"Sampling frequency: \\t{f_s} Hz\")\n"
   ]
  },
  {
   "cell_type": "code",
   "execution_count": null,
   "metadata": {},
   "outputs": [],
   "source": [
    "import matplotlib.pyplot as plt\n",
    "\n",
    "rdm_sample_idx = np.random.randint(0, len(samples), 10)\n",
    "\n",
    "for i, i_sample in enumerate(rdm_sample_idx):\n",
    "\n",
    "    exsample = samples[i_sample]\n",
    "\n",
    "    x_speed = exsample[0]\n",
    "    y_speed = exsample[1]\n",
    "\n",
    "    # Conversion to trajectory beggining at point (0,0)\n",
    "    x = [0]\n",
    "    y = [0]\n",
    "\n",
    "    for x_v, y_v in zip(x_speed, y_speed):\n",
    "        x.append(x[-1] + x_v/f_s)\n",
    "        y.append(y[-1] + y_v/f_s)\n",
    "\n",
    "    plt.subplot(2, 5, i+1)\n",
    "    plt.scatter(x, y, c=np.arange(len(x)), s=5)\n",
    "    plt.plot(x, y, alpha=0.5)\n",
    "    \n",
    "    plt.title(samples_label[0][i_sample])\n",
    "\n",
    "    plt.axis('equal')\n",
    "    plt.axis('off')\n",
    "    #plt.colorbar()\n",
    "\n",
    "plt.suptitle(\"Characters samples (start in indigo, end in yellow)\")\n",
    "plt.show()\n",
    "\n",
    "for i, i_sample in enumerate(rdm_sample_idx):\n",
    "\n",
    "    exsample = samples[i_sample]\n",
    "\n",
    "    pen_tip_f = exsample[2]\n",
    "\n",
    "    plt.subplot(2, 5, i+1)\n",
    "    plt.plot(np.arange(len(pen_tip_f)), pen_tip_f)\n",
    "    plt.title(samples_label[0][i_sample])\n",
    "\n",
    "plt.suptitle(\"Pen tip force curves\")\n",
    "plt.show()\n",
    "\n",
    "for i, i_sample in enumerate(rdm_sample_idx):\n",
    "\n",
    "    exsample = samples[i_sample]\n",
    "\n",
    "    x_speed = exsample[0]\n",
    "\n",
    "    plt.subplot(2, 5, i+1)\n",
    "    plt.plot(np.arange(len(x_speed)), x_speed)\n",
    "    plt.title(samples_label[0][i_sample])\n",
    "\n",
    "plt.suptitle(\"X speed\")\n",
    "plt.show()\n",
    "\n",
    "for i, i_sample in enumerate(rdm_sample_idx):\n",
    "\n",
    "    exsample = samples[i_sample]\n",
    "\n",
    "    y_speed = exsample[0]\n",
    "\n",
    "    plt.subplot(2, 5, i+1)\n",
    "    plt.plot(np.arange(len(y_speed)), y_speed)\n",
    "    plt.title(samples_label[0][i_sample])\n",
    "\n",
    "plt.suptitle(\"Y speed\")\n",
    "plt.show()"
   ]
  }
 ],
 "metadata": {
  "kernelspec": {
   "display_name": "Python 3",
   "language": "python",
   "name": "python3"
  },
  "language_info": {
   "codemirror_mode": {
    "name": "ipython",
    "version": 3
   },
   "file_extension": ".py",
   "mimetype": "text/x-python",
   "name": "python",
   "nbconvert_exporter": "python",
   "pygments_lexer": "ipython3",
   "version": "3.8.10"
  },
  "orig_nbformat": 4
 },
 "nbformat": 4,
 "nbformat_minor": 2
}
