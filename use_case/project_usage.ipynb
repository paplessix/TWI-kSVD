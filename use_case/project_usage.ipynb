{
 "cells": [
  {
   "cell_type": "code",
   "execution_count": null,
   "metadata": {},
   "outputs": [],
   "source": [
    "from twi_ksvd.omp import OMP\n",
    "import numpy as np"
   ]
  },
  {
   "attachments": {},
   "cell_type": "markdown",
   "metadata": {},
   "source": [
    "## Test and usage of OMP"
   ]
  },
  {
   "attachments": {},
   "cell_type": "markdown",
   "metadata": {},
   "source": [
    "### Syntethic data"
   ]
  },
  {
   "cell_type": "code",
   "execution_count": null,
   "metadata": {},
   "outputs": [],
   "source": [
    "p = 10\n",
    "K = 100\n",
    "N = 100\n",
    "x = np.ones(p)\n",
    "X = np.random.random((p, N))\n",
    "D = np.random.random((p, K))"
   ]
  },
  {
   "attachments": {},
   "cell_type": "markdown",
   "metadata": {},
   "source": [
    "### Test"
   ]
  },
  {
   "cell_type": "code",
   "execution_count": null,
   "metadata": {},
   "outputs": [],
   "source": [
    "alpha = OMP(x, D, 3)\n",
    "\n",
    "np.linalg.norm(x - D @ alpha)"
   ]
  },
  {
   "attachments": {},
   "cell_type": "markdown",
   "metadata": {},
   "source": [
    "## Test and usage of COSTW"
   ]
  },
  {
   "cell_type": "code",
   "execution_count": null,
   "metadata": {},
   "outputs": [],
   "source": [
    "from twi_ksvd.costw import COSTW\n",
    "\n",
    "t1 = np.arange(20)\n",
    "t2 = np.arange(10)\n",
    "\n",
    "\n",
    "x1 = np.cos(t1)\n",
    "y1 = np.cos(2*t2)\n",
    "\n",
    "costw, delta = COSTW(x1,y1)"
   ]
  },
  {
   "cell_type": "code",
   "execution_count": null,
   "metadata": {},
   "outputs": [],
   "source": [
    "(delta @ np.ones(delta.shape[1]) == 1).all()"
   ]
  },
  {
   "cell_type": "code",
   "execution_count": null,
   "metadata": {},
   "outputs": [],
   "source": [
    "(delta @ y1).shape == x1.shape"
   ]
  },
  {
   "attachments": {},
   "cell_type": "markdown",
   "metadata": {},
   "source": [
    "## Test and usage of TWI-OMP"
   ]
  },
  {
   "cell_type": "code",
   "execution_count": null,
   "metadata": {},
   "outputs": [],
   "source": [
    "from twi_ksvd.omp import TWI_OMP\n",
    "\n",
    "D_list = [D[:,j] for j in range(D.shape[1])]\n",
    "\n",
    "alpha, deltas = TWI_OMP(x, D_list, 3)"
   ]
  },
  {
   "cell_type": "code",
   "execution_count": null,
   "metadata": {},
   "outputs": [],
   "source": [
    "len(deltas)"
   ]
  },
  {
   "cell_type": "code",
   "execution_count": null,
   "metadata": {},
   "outputs": [],
   "source": [
    "\n",
    "approx = np.zeros_like(x)\n",
    "\n",
    "for j in range(len(D_list)):\n",
    "    if alpha[j] != 0:\n",
    "        approx += alpha[j] * deltas[j] @ D_list[j]\n",
    "\n",
    "np.linalg.norm(x - approx)"
   ]
  },
  {
   "cell_type": "markdown",
   "metadata": {},
   "source": [
    "## Test and usage of kSVD"
   ]
  },
  {
   "cell_type": "code",
   "execution_count": null,
   "metadata": {},
   "outputs": [],
   "source": [
    "from twi_ksvd.ksvd import kSVD\n",
    "model = kSVD( 10)\n",
    "tau = 3\n",
    "model. fit(X,D,tau )"
   ]
  }
 ],
 "metadata": {
  "kernelspec": {
   "display_name": "Python 3",
   "language": "python",
   "name": "python3"
  },
  "language_info": {
   "codemirror_mode": {
    "name": "ipython",
    "version": 3
   },
   "file_extension": ".py",
   "mimetype": "text/x-python",
   "name": "python",
   "nbconvert_exporter": "python",
   "pygments_lexer": "ipython3",
   "version": "3.8.10"
  },
  "orig_nbformat": 4
 },
 "nbformat": 4,
 "nbformat_minor": 2
}
