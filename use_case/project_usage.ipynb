{
 "cells": [
  {
   "cell_type": "code",
   "execution_count": null,
   "metadata": {},
   "outputs": [],
   "source": [
    "from twi_ksvd.omp import OMP\n",
    "import numpy as np"
   ]
  },
  {
   "attachments": {},
   "cell_type": "markdown",
   "metadata": {},
   "source": [
    "## Test and usage of OMP"
   ]
  },
  {
   "attachments": {},
   "cell_type": "markdown",
   "metadata": {},
   "source": [
    "### Syntethic data"
   ]
  },
  {
   "cell_type": "code",
   "execution_count": null,
   "metadata": {},
   "outputs": [],
   "source": [
    "p = 10\n",
    "K = 100\n",
    "N = 100\n",
    "x = np.ones(p)\n",
    "X = np.random.random((p, N))\n",
    "D = np.random.random((p, K))"
   ]
  },
  {
   "attachments": {},
   "cell_type": "markdown",
   "metadata": {},
   "source": [
    "### Test"
   ]
  },
  {
   "cell_type": "code",
   "execution_count": null,
   "metadata": {},
   "outputs": [],
   "source": [
    "alpha = OMP(x, D, 3)\n",
    "\n",
    "np.linalg.norm(x - D @ alpha)"
   ]
  },
  {
   "attachments": {},
   "cell_type": "markdown",
   "metadata": {},
   "source": [
    "## Test and usage of COSTW"
   ]
  },
  {
   "cell_type": "code",
   "execution_count": null,
   "metadata": {},
   "outputs": [],
   "source": [
    "from twi_ksvd.costw import COSTW\n",
    "from dtw import dtw\n",
    "\n",
    "t1 = np.arange(200)\n",
    "t2 = np.arange(100)\n",
    "\n",
    "\n",
    "x1 = 2*np.random.random(200)-1\n",
    "y1 = np.cos(5*t2)\n"
   ]
  },
  {
   "cell_type": "code",
   "execution_count": null,
   "metadata": {},
   "outputs": [],
   "source": [
    "%%timeit\n",
    "costw, delta = COSTW(x1,y1)"
   ]
  },
  {
   "cell_type": "code",
   "execution_count": null,
   "metadata": {},
   "outputs": [],
   "source": [
    "%%timeit\n",
    "costw, delta = COSTW(x1,y1, r_window=20)"
   ]
  },
  {
   "cell_type": "code",
   "execution_count": null,
   "metadata": {},
   "outputs": [],
   "source": [
    "%%timeit\n",
    "align = dtw(x1, y1, dist_method=\"cosine\", keep_internals=False)"
   ]
  },
  {
   "cell_type": "code",
   "execution_count": null,
   "metadata": {},
   "outputs": [],
   "source": [
    "align.normalizedDistance\n",
    "\n",
    "delta = np.zeros((x1.shape[0], y1.shape[0]), dtype=int)\n",
    "\n",
    "for i,j in zip(align.index1, align.index2):\n",
    "    delta[i,j] = 1\n",
    "\n",
    "print(delta)"
   ]
  },
  {
   "cell_type": "code",
   "execution_count": null,
   "metadata": {},
   "outputs": [],
   "source": [
    "import matplotlib.pyplot as plt\n",
    "\n",
    "plt.plot(t1, x1)\n",
    "plt.plot(t2, y1)\n",
    "plt.plot(t1, x1)\n",
    "plt.plot(t1, delta @ y1)"
   ]
  },
  {
   "cell_type": "code",
   "execution_count": null,
   "metadata": {},
   "outputs": [],
   "source": [
    "align.plot()"
   ]
  },
  {
   "cell_type": "code",
   "execution_count": null,
   "metadata": {},
   "outputs": [],
   "source": [
    "(delta @ np.ones(delta.shape[1]) == 1).all()"
   ]
  },
  {
   "cell_type": "code",
   "execution_count": null,
   "metadata": {},
   "outputs": [],
   "source": [
    "(delta @ y1).shape == x1.shape"
   ]
  },
  {
   "attachments": {},
   "cell_type": "markdown",
   "metadata": {},
   "source": [
    "## Test and usage of TWI-OMP"
   ]
  },
  {
   "cell_type": "code",
   "execution_count": null,
   "metadata": {},
   "outputs": [],
   "source": [
    "from twi_ksvd.omp import TWI_OMP\n",
    "\n",
    "D_list = [D[:,j] for j in range(D.shape[1])]\n",
    "\n",
    "alpha, deltas = TWI_OMP(x, D_list, 3)"
   ]
  },
  {
   "cell_type": "code",
   "execution_count": null,
   "metadata": {},
   "outputs": [],
   "source": [
    "len(deltas)"
   ]
  },
  {
   "cell_type": "code",
   "execution_count": null,
   "metadata": {},
   "outputs": [],
   "source": [
    "\n",
    "approx = np.zeros_like(x)\n",
    "\n",
    "for j in range(len(D_list)):\n",
    "    if alpha[j] != 0:\n",
    "        approx += alpha[j] * deltas[j] @ D_list[j]\n",
    "\n",
    "np.linalg.norm(x - approx)"
   ]
  },
  {
   "cell_type": "markdown",
   "metadata": {},
   "source": [
    "## Test and usage of kSVD"
   ]
  },
  {
   "cell_type": "code",
   "execution_count": null,
   "metadata": {},
   "outputs": [],
   "source": [
    "from twi_ksvd.ksvd import kSVD\n",
    "model = kSVD( 10)\n",
    "tau = 3\n",
    "model. fit(X,D,tau )"
   ]
  },
  {
   "attachments": {},
   "cell_type": "markdown",
   "metadata": {},
   "source": [
    "# Test and Usage of TWI-kSVD"
   ]
  },
  {
   "cell_type": "code",
   "execution_count": null,
   "metadata": {},
   "outputs": [],
   "source": [
    "import numpy as np\n",
    "from twi_ksvd.ksvd import TWI_kSVD\n",
    "model = TWI_kSVD( 10)\n",
    "X = np.random.random((100,4))\n",
    "D = np.random.random((100,10)).T\n",
    "tau = 3\n",
    "model. fit(X,D,tau, r_window=10)"
   ]
  }
 ],
 "metadata": {
  "kernelspec": {
   "display_name": "Python 3",
   "language": "python",
   "name": "python3"
  },
  "language_info": {
   "codemirror_mode": {
    "name": "ipython",
    "version": 3
   },
   "file_extension": ".py",
   "mimetype": "text/x-python",
   "name": "python",
   "nbconvert_exporter": "python",
   "pygments_lexer": "ipython3",
   "version": "3.8.10"
  },
  "orig_nbformat": 4
 },
 "nbformat": 4,
 "nbformat_minor": 2
}
